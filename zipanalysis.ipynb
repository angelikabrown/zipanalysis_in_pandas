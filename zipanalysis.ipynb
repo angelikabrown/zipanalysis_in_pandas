{
 "cells": [
  {
   "cell_type": "code",
   "execution_count": 2,
   "id": "602963ed-f9b0-4f12-9766-851b1e302954",
   "metadata": {},
   "outputs": [],
   "source": [
    "import pandas as pd\n",
    "import numpy as np\n",
    "import seaborn as sn"
   ]
  },
  {
   "cell_type": "code",
   "execution_count": 3,
   "id": "1f879f44-8611-4893-887a-d0d8ceaa46c8",
   "metadata": {},
   "outputs": [],
   "source": [
    "#create a DataFrame\n",
    "zip_df = pd.read_csv('zip_code_demographics.csv')"
   ]
  },
  {
   "cell_type": "code",
   "execution_count": 4,
   "id": "1ca1922d-b9dc-43b3-ba55-3f3175cbab80",
   "metadata": {},
   "outputs": [
    {
     "data": {
      "text/html": [
       "<div>\n",
       "<style scoped>\n",
       "    .dataframe tbody tr th:only-of-type {\n",
       "        vertical-align: middle;\n",
       "    }\n",
       "\n",
       "    .dataframe tbody tr th {\n",
       "        vertical-align: top;\n",
       "    }\n",
       "\n",
       "    .dataframe thead th {\n",
       "        text-align: right;\n",
       "    }\n",
       "</style>\n",
       "<table border=\"1\" class=\"dataframe\">\n",
       "  <thead>\n",
       "    <tr style=\"text-align: right;\">\n",
       "      <th></th>\n",
       "      <th>zip</th>\n",
       "      <th>lat</th>\n",
       "      <th>lng</th>\n",
       "      <th>city</th>\n",
       "      <th>state_id</th>\n",
       "      <th>state_name</th>\n",
       "      <th>population</th>\n",
       "      <th>density</th>\n",
       "      <th>county_name</th>\n",
       "      <th>po_box</th>\n",
       "      <th>dist_highway</th>\n",
       "      <th>dist2_large_airport</th>\n",
       "      <th>dist2_medium_airport</th>\n",
       "      <th>dist_to_shore</th>\n",
       "      <th>number_of_business</th>\n",
       "      <th>adjusted_gross_income</th>\n",
       "      <th>total_income_amount</th>\n",
       "      <th>number_of_returns</th>\n",
       "    </tr>\n",
       "  </thead>\n",
       "  <tbody>\n",
       "    <tr>\n",
       "      <th>0</th>\n",
       "      <td>1001</td>\n",
       "      <td>42.06262</td>\n",
       "      <td>-72.62521</td>\n",
       "      <td>Agawam</td>\n",
       "      <td>MA</td>\n",
       "      <td>Massachusetts</td>\n",
       "      <td>16088</td>\n",
       "      <td>550.1</td>\n",
       "      <td>Hampden</td>\n",
       "      <td>0</td>\n",
       "      <td>1.387035</td>\n",
       "      <td>106.145765</td>\n",
       "      <td>12.946212</td>\n",
       "      <td>93.049251</td>\n",
       "      <td>438.0</td>\n",
       "      <td>598807</td>\n",
       "      <td>6.047690e+05</td>\n",
       "      <td>9320</td>\n",
       "    </tr>\n",
       "    <tr>\n",
       "      <th>1</th>\n",
       "      <td>1002</td>\n",
       "      <td>42.37633</td>\n",
       "      <td>-72.46462</td>\n",
       "      <td>Amherst</td>\n",
       "      <td>MA</td>\n",
       "      <td>Massachusetts</td>\n",
       "      <td>27323</td>\n",
       "      <td>198.1</td>\n",
       "      <td>Hampshire</td>\n",
       "      <td>0</td>\n",
       "      <td>14.438177</td>\n",
       "      <td>112.264368</td>\n",
       "      <td>21.080079</td>\n",
       "      <td>133.370144</td>\n",
       "      <td>571.0</td>\n",
       "      <td>989558</td>\n",
       "      <td>1.005796e+06</td>\n",
       "      <td>9880</td>\n",
       "    </tr>\n",
       "    <tr>\n",
       "      <th>2</th>\n",
       "      <td>1005</td>\n",
       "      <td>42.42117</td>\n",
       "      <td>-72.10655</td>\n",
       "      <td>Barre</td>\n",
       "      <td>MA</td>\n",
       "      <td>Massachusetts</td>\n",
       "      <td>4947</td>\n",
       "      <td>44.2</td>\n",
       "      <td>Worcester</td>\n",
       "      <td>0</td>\n",
       "      <td>16.788339</td>\n",
       "      <td>90.664964</td>\n",
       "      <td>25.547718</td>\n",
       "      <td>97.639881</td>\n",
       "      <td>97.0</td>\n",
       "      <td>164207</td>\n",
       "      <td>1.660540e+05</td>\n",
       "      <td>2490</td>\n",
       "    </tr>\n",
       "    <tr>\n",
       "      <th>3</th>\n",
       "      <td>1007</td>\n",
       "      <td>42.28163</td>\n",
       "      <td>-72.40009</td>\n",
       "      <td>Belchertown</td>\n",
       "      <td>MA</td>\n",
       "      <td>Massachusetts</td>\n",
       "      <td>15304</td>\n",
       "      <td>107.7</td>\n",
       "      <td>Hampshire</td>\n",
       "      <td>0</td>\n",
       "      <td>13.663839</td>\n",
       "      <td>101.552921</td>\n",
       "      <td>14.762395</td>\n",
       "      <td>114.406034</td>\n",
       "      <td>217.0</td>\n",
       "      <td>647074</td>\n",
       "      <td>6.547390e+05</td>\n",
       "      <td>7970</td>\n",
       "    </tr>\n",
       "    <tr>\n",
       "      <th>4</th>\n",
       "      <td>1008</td>\n",
       "      <td>42.18234</td>\n",
       "      <td>-72.95819</td>\n",
       "      <td>Blandford</td>\n",
       "      <td>MA</td>\n",
       "      <td>Massachusetts</td>\n",
       "      <td>1171</td>\n",
       "      <td>7.4</td>\n",
       "      <td>Hampden</td>\n",
       "      <td>0</td>\n",
       "      <td>2.593655</td>\n",
       "      <td>136.548797</td>\n",
       "      <td>20.177950</td>\n",
       "      <td>107.466779</td>\n",
       "      <td>18.0</td>\n",
       "      <td>47826</td>\n",
       "      <td>4.824100e+04</td>\n",
       "      <td>660</td>\n",
       "    </tr>\n",
       "  </tbody>\n",
       "</table>\n",
       "</div>"
      ],
      "text/plain": [
       "    zip       lat       lng         city state_id     state_name  population  \\\n",
       "0  1001  42.06262 -72.62521       Agawam       MA  Massachusetts       16088   \n",
       "1  1002  42.37633 -72.46462      Amherst       MA  Massachusetts       27323   \n",
       "2  1005  42.42117 -72.10655        Barre       MA  Massachusetts        4947   \n",
       "3  1007  42.28163 -72.40009  Belchertown       MA  Massachusetts       15304   \n",
       "4  1008  42.18234 -72.95819    Blandford       MA  Massachusetts        1171   \n",
       "\n",
       "   density county_name  po_box  dist_highway  dist2_large_airport  \\\n",
       "0    550.1     Hampden       0      1.387035           106.145765   \n",
       "1    198.1   Hampshire       0     14.438177           112.264368   \n",
       "2     44.2   Worcester       0     16.788339            90.664964   \n",
       "3    107.7   Hampshire       0     13.663839           101.552921   \n",
       "4      7.4     Hampden       0      2.593655           136.548797   \n",
       "\n",
       "   dist2_medium_airport  dist_to_shore  number_of_business  \\\n",
       "0             12.946212      93.049251               438.0   \n",
       "1             21.080079     133.370144               571.0   \n",
       "2             25.547718      97.639881                97.0   \n",
       "3             14.762395     114.406034               217.0   \n",
       "4             20.177950     107.466779                18.0   \n",
       "\n",
       "   adjusted_gross_income  total_income_amount  number_of_returns  \n",
       "0                 598807         6.047690e+05               9320  \n",
       "1                 989558         1.005796e+06               9880  \n",
       "2                 164207         1.660540e+05               2490  \n",
       "3                 647074         6.547390e+05               7970  \n",
       "4                  47826         4.824100e+04                660  "
      ]
     },
     "execution_count": 4,
     "metadata": {},
     "output_type": "execute_result"
    }
   ],
   "source": [
    "zip_df.head()"
   ]
  },
  {
   "cell_type": "code",
   "execution_count": 5,
   "id": "f3b670cc-4aa0-43be-976f-2d87c884eb83",
   "metadata": {},
   "outputs": [
    {
     "data": {
      "text/plain": [
       "(33704, 18)"
      ]
     },
     "execution_count": 5,
     "metadata": {},
     "output_type": "execute_result"
    }
   ],
   "source": [
    "#how many columns and rows\n",
    "zip_df.shape"
   ]
  },
  {
   "cell_type": "code",
   "execution_count": 6,
   "id": "f8a8eb56-198f-435c-96b1-980ff8baaf86",
   "metadata": {},
   "outputs": [
    {
     "data": {
      "text/plain": [
       "Index(['zip', 'lat', 'lng', 'city', 'state_id', 'state_name', 'population',\n",
       "       'density', 'county_name', 'po_box', 'dist_highway',\n",
       "       'dist2_large_airport', 'dist2_medium_airport', 'dist_to_shore',\n",
       "       'number_of_business', 'adjusted_gross_income', 'total_income_amount',\n",
       "       'number_of_returns'],\n",
       "      dtype='object')"
      ]
     },
     "execution_count": 6,
     "metadata": {},
     "output_type": "execute_result"
    }
   ],
   "source": [
    "#attributes of the DataFrame\n",
    "zip_df.columns"
   ]
  },
  {
   "cell_type": "code",
   "execution_count": 7,
   "id": "0849cb21-c79c-4b45-b720-fa4a86461f74",
   "metadata": {},
   "outputs": [
    {
     "data": {
      "text/html": [
       "<div>\n",
       "<style scoped>\n",
       "    .dataframe tbody tr th:only-of-type {\n",
       "        vertical-align: middle;\n",
       "    }\n",
       "\n",
       "    .dataframe tbody tr th {\n",
       "        vertical-align: top;\n",
       "    }\n",
       "\n",
       "    .dataframe thead th {\n",
       "        text-align: right;\n",
       "    }\n",
       "</style>\n",
       "<table border=\"1\" class=\"dataframe\">\n",
       "  <thead>\n",
       "    <tr style=\"text-align: right;\">\n",
       "      <th></th>\n",
       "      <th>state_id</th>\n",
       "      <th>city</th>\n",
       "      <th>number_of_business</th>\n",
       "      <th>dist_to_shore</th>\n",
       "    </tr>\n",
       "  </thead>\n",
       "  <tbody>\n",
       "    <tr>\n",
       "      <th>0</th>\n",
       "      <td>MA</td>\n",
       "      <td>Agawam</td>\n",
       "      <td>438.0</td>\n",
       "      <td>93.049251</td>\n",
       "    </tr>\n",
       "    <tr>\n",
       "      <th>1</th>\n",
       "      <td>MA</td>\n",
       "      <td>Amherst</td>\n",
       "      <td>571.0</td>\n",
       "      <td>133.370144</td>\n",
       "    </tr>\n",
       "    <tr>\n",
       "      <th>2</th>\n",
       "      <td>MA</td>\n",
       "      <td>Barre</td>\n",
       "      <td>97.0</td>\n",
       "      <td>97.639881</td>\n",
       "    </tr>\n",
       "    <tr>\n",
       "      <th>3</th>\n",
       "      <td>MA</td>\n",
       "      <td>Belchertown</td>\n",
       "      <td>217.0</td>\n",
       "      <td>114.406034</td>\n",
       "    </tr>\n",
       "    <tr>\n",
       "      <th>4</th>\n",
       "      <td>MA</td>\n",
       "      <td>Blandford</td>\n",
       "      <td>18.0</td>\n",
       "      <td>107.466779</td>\n",
       "    </tr>\n",
       "  </tbody>\n",
       "</table>\n",
       "</div>"
      ],
      "text/plain": [
       "  state_id         city  number_of_business  dist_to_shore\n",
       "0       MA       Agawam               438.0      93.049251\n",
       "1       MA      Amherst               571.0     133.370144\n",
       "2       MA        Barre                97.0      97.639881\n",
       "3       MA  Belchertown               217.0     114.406034\n",
       "4       MA    Blandford                18.0     107.466779"
      ]
     },
     "execution_count": 7,
     "metadata": {},
     "output_type": "execute_result"
    }
   ],
   "source": [
    "#number of biz and distance to shore\n",
    "sho_df = zip_df[['state_id', 'city', 'number_of_business','dist_to_shore']]\n",
    "sho_df.head()"
   ]
  },
  {
   "cell_type": "code",
   "execution_count": 8,
   "id": "ed920cea-ef1e-4164-8c20-3b82652007e9",
   "metadata": {},
   "outputs": [
    {
     "name": "stderr",
     "output_type": "stream",
     "text": [
      "/var/folders/j5/3rry1w9s6819d90x12dk94gr0000gq/T/ipykernel_10427/827289575.py:2: SettingWithCopyWarning: \n",
      "A value is trying to be set on a copy of a slice from a DataFrame.\n",
      "Try using .loc[row_indexer,col_indexer] = value instead\n",
      "\n",
      "See the caveats in the documentation: https://pandas.pydata.org/pandas-docs/stable/user_guide/indexing.html#returning-a-view-versus-a-copy\n",
      "  sho_df['city'] = sho_df['city'] + ', ' + sho_df['state_id']\n"
     ]
    },
    {
     "data": {
      "text/html": [
       "<div>\n",
       "<style scoped>\n",
       "    .dataframe tbody tr th:only-of-type {\n",
       "        vertical-align: middle;\n",
       "    }\n",
       "\n",
       "    .dataframe tbody tr th {\n",
       "        vertical-align: top;\n",
       "    }\n",
       "\n",
       "    .dataframe thead th {\n",
       "        text-align: right;\n",
       "    }\n",
       "</style>\n",
       "<table border=\"1\" class=\"dataframe\">\n",
       "  <thead>\n",
       "    <tr style=\"text-align: right;\">\n",
       "      <th></th>\n",
       "      <th>state_id</th>\n",
       "      <th>city</th>\n",
       "      <th>number_of_business</th>\n",
       "      <th>dist_to_shore</th>\n",
       "    </tr>\n",
       "  </thead>\n",
       "  <tbody>\n",
       "    <tr>\n",
       "      <th>0</th>\n",
       "      <td>MA</td>\n",
       "      <td>Agawam, MA</td>\n",
       "      <td>438.0</td>\n",
       "      <td>93.049251</td>\n",
       "    </tr>\n",
       "    <tr>\n",
       "      <th>1</th>\n",
       "      <td>MA</td>\n",
       "      <td>Amherst, MA</td>\n",
       "      <td>571.0</td>\n",
       "      <td>133.370144</td>\n",
       "    </tr>\n",
       "    <tr>\n",
       "      <th>2</th>\n",
       "      <td>MA</td>\n",
       "      <td>Barre, MA</td>\n",
       "      <td>97.0</td>\n",
       "      <td>97.639881</td>\n",
       "    </tr>\n",
       "    <tr>\n",
       "      <th>3</th>\n",
       "      <td>MA</td>\n",
       "      <td>Belchertown, MA</td>\n",
       "      <td>217.0</td>\n",
       "      <td>114.406034</td>\n",
       "    </tr>\n",
       "    <tr>\n",
       "      <th>4</th>\n",
       "      <td>MA</td>\n",
       "      <td>Blandford, MA</td>\n",
       "      <td>18.0</td>\n",
       "      <td>107.466779</td>\n",
       "    </tr>\n",
       "    <tr>\n",
       "      <th>...</th>\n",
       "      <td>...</td>\n",
       "      <td>...</td>\n",
       "      <td>...</td>\n",
       "      <td>...</td>\n",
       "    </tr>\n",
       "    <tr>\n",
       "      <th>33699</th>\n",
       "      <td>NC</td>\n",
       "      <td>Southern Pines, NC</td>\n",
       "      <td>637.0</td>\n",
       "      <td>172.197809</td>\n",
       "    </tr>\n",
       "    <tr>\n",
       "      <th>33700</th>\n",
       "      <td>NC</td>\n",
       "      <td>Spruce Pine, NC</td>\n",
       "      <td>280.0</td>\n",
       "      <td>402.428512</td>\n",
       "    </tr>\n",
       "    <tr>\n",
       "      <th>33701</th>\n",
       "      <td>KY</td>\n",
       "      <td>Louisville, KY</td>\n",
       "      <td>1133.0</td>\n",
       "      <td>400.646608</td>\n",
       "    </tr>\n",
       "    <tr>\n",
       "      <th>33702</th>\n",
       "      <td>KY</td>\n",
       "      <td>Louisville, KY</td>\n",
       "      <td>270.0</td>\n",
       "      <td>403.729631</td>\n",
       "    </tr>\n",
       "    <tr>\n",
       "      <th>33703</th>\n",
       "      <td>OH</td>\n",
       "      <td>Akron, OH</td>\n",
       "      <td>393.0</td>\n",
       "      <td>50.216506</td>\n",
       "    </tr>\n",
       "  </tbody>\n",
       "</table>\n",
       "<p>33704 rows × 4 columns</p>\n",
       "</div>"
      ],
      "text/plain": [
       "      state_id                city  number_of_business  dist_to_shore\n",
       "0           MA          Agawam, MA               438.0      93.049251\n",
       "1           MA         Amherst, MA               571.0     133.370144\n",
       "2           MA           Barre, MA                97.0      97.639881\n",
       "3           MA     Belchertown, MA               217.0     114.406034\n",
       "4           MA       Blandford, MA                18.0     107.466779\n",
       "...        ...                 ...                 ...            ...\n",
       "33699       NC  Southern Pines, NC               637.0     172.197809\n",
       "33700       NC     Spruce Pine, NC               280.0     402.428512\n",
       "33701       KY      Louisville, KY              1133.0     400.646608\n",
       "33702       KY      Louisville, KY               270.0     403.729631\n",
       "33703       OH           Akron, OH               393.0      50.216506\n",
       "\n",
       "[33704 rows x 4 columns]"
      ]
     },
     "execution_count": 8,
     "metadata": {},
     "output_type": "execute_result"
    }
   ],
   "source": [
    "#combine columns\n",
    "sho_df['city'] = sho_df['city'] + ', ' + sho_df['state_id']\n",
    "sho_df"
   ]
  },
  {
   "cell_type": "code",
   "execution_count": 9,
   "id": "0c77c7b3-4175-4d30-9fef-521f62e1fb7c",
   "metadata": {},
   "outputs": [
    {
     "data": {
      "text/html": [
       "<div>\n",
       "<style scoped>\n",
       "    .dataframe tbody tr th:only-of-type {\n",
       "        vertical-align: middle;\n",
       "    }\n",
       "\n",
       "    .dataframe tbody tr th {\n",
       "        vertical-align: top;\n",
       "    }\n",
       "\n",
       "    .dataframe thead th {\n",
       "        text-align: right;\n",
       "    }\n",
       "</style>\n",
       "<table border=\"1\" class=\"dataframe\">\n",
       "  <thead>\n",
       "    <tr style=\"text-align: right;\">\n",
       "      <th></th>\n",
       "      <th>city</th>\n",
       "      <th>number_of_business</th>\n",
       "      <th>dist_to_shore</th>\n",
       "    </tr>\n",
       "  </thead>\n",
       "  <tbody>\n",
       "    <tr>\n",
       "      <th>0</th>\n",
       "      <td>Agawam, MA</td>\n",
       "      <td>438.0</td>\n",
       "      <td>93.049251</td>\n",
       "    </tr>\n",
       "    <tr>\n",
       "      <th>1</th>\n",
       "      <td>Amherst, MA</td>\n",
       "      <td>571.0</td>\n",
       "      <td>133.370144</td>\n",
       "    </tr>\n",
       "    <tr>\n",
       "      <th>2</th>\n",
       "      <td>Barre, MA</td>\n",
       "      <td>97.0</td>\n",
       "      <td>97.639881</td>\n",
       "    </tr>\n",
       "    <tr>\n",
       "      <th>3</th>\n",
       "      <td>Belchertown, MA</td>\n",
       "      <td>217.0</td>\n",
       "      <td>114.406034</td>\n",
       "    </tr>\n",
       "    <tr>\n",
       "      <th>4</th>\n",
       "      <td>Blandford, MA</td>\n",
       "      <td>18.0</td>\n",
       "      <td>107.466779</td>\n",
       "    </tr>\n",
       "    <tr>\n",
       "      <th>...</th>\n",
       "      <td>...</td>\n",
       "      <td>...</td>\n",
       "      <td>...</td>\n",
       "    </tr>\n",
       "    <tr>\n",
       "      <th>33699</th>\n",
       "      <td>Southern Pines, NC</td>\n",
       "      <td>637.0</td>\n",
       "      <td>172.197809</td>\n",
       "    </tr>\n",
       "    <tr>\n",
       "      <th>33700</th>\n",
       "      <td>Spruce Pine, NC</td>\n",
       "      <td>280.0</td>\n",
       "      <td>402.428512</td>\n",
       "    </tr>\n",
       "    <tr>\n",
       "      <th>33701</th>\n",
       "      <td>Louisville, KY</td>\n",
       "      <td>1133.0</td>\n",
       "      <td>400.646608</td>\n",
       "    </tr>\n",
       "    <tr>\n",
       "      <th>33702</th>\n",
       "      <td>Louisville, KY</td>\n",
       "      <td>270.0</td>\n",
       "      <td>403.729631</td>\n",
       "    </tr>\n",
       "    <tr>\n",
       "      <th>33703</th>\n",
       "      <td>Akron, OH</td>\n",
       "      <td>393.0</td>\n",
       "      <td>50.216506</td>\n",
       "    </tr>\n",
       "  </tbody>\n",
       "</table>\n",
       "<p>33704 rows × 3 columns</p>\n",
       "</div>"
      ],
      "text/plain": [
       "                     city  number_of_business  dist_to_shore\n",
       "0              Agawam, MA               438.0      93.049251\n",
       "1             Amherst, MA               571.0     133.370144\n",
       "2               Barre, MA                97.0      97.639881\n",
       "3         Belchertown, MA               217.0     114.406034\n",
       "4           Blandford, MA                18.0     107.466779\n",
       "...                   ...                 ...            ...\n",
       "33699  Southern Pines, NC               637.0     172.197809\n",
       "33700     Spruce Pine, NC               280.0     402.428512\n",
       "33701      Louisville, KY              1133.0     400.646608\n",
       "33702      Louisville, KY               270.0     403.729631\n",
       "33703           Akron, OH               393.0      50.216506\n",
       "\n",
       "[33704 rows x 3 columns]"
      ]
     },
     "execution_count": 9,
     "metadata": {},
     "output_type": "execute_result"
    }
   ],
   "source": [
    "#delete state_id column\n",
    "sho_df = sho_df.drop('state_id', axis=1)\n",
    "sho_df"
   ]
  },
  {
   "cell_type": "code",
   "execution_count": 10,
   "id": "128bbf4c-402f-4263-932f-7fbdfa777fc3",
   "metadata": {},
   "outputs": [
    {
     "data": {
      "text/plain": [
       "city                   object\n",
       "number_of_business    float64\n",
       "dist_to_shore         float64\n",
       "dtype: object"
      ]
     },
     "execution_count": 10,
     "metadata": {},
     "output_type": "execute_result"
    }
   ],
   "source": [
    "#Checking datatypes of columns\n",
    "sho_df.dtypes"
   ]
  },
  {
   "cell_type": "code",
   "execution_count": 11,
   "id": "86dfc42a-a487-4001-9827-38e6ca49ce2a",
   "metadata": {},
   "outputs": [
    {
     "data": {
      "text/html": [
       "<div>\n",
       "<style scoped>\n",
       "    .dataframe tbody tr th:only-of-type {\n",
       "        vertical-align: middle;\n",
       "    }\n",
       "\n",
       "    .dataframe tbody tr th {\n",
       "        vertical-align: top;\n",
       "    }\n",
       "\n",
       "    .dataframe thead th {\n",
       "        text-align: right;\n",
       "    }\n",
       "</style>\n",
       "<table border=\"1\" class=\"dataframe\">\n",
       "  <thead>\n",
       "    <tr style=\"text-align: right;\">\n",
       "      <th></th>\n",
       "      <th>city</th>\n",
       "      <th>number_of_business</th>\n",
       "      <th>dist_to_shore</th>\n",
       "    </tr>\n",
       "  </thead>\n",
       "  <tbody>\n",
       "    <tr>\n",
       "      <th>0</th>\n",
       "      <td>Agawam, MA</td>\n",
       "      <td>438.00</td>\n",
       "      <td>93.05</td>\n",
       "    </tr>\n",
       "    <tr>\n",
       "      <th>1</th>\n",
       "      <td>Amherst, MA</td>\n",
       "      <td>571.00</td>\n",
       "      <td>133.37</td>\n",
       "    </tr>\n",
       "    <tr>\n",
       "      <th>2</th>\n",
       "      <td>Barre, MA</td>\n",
       "      <td>97.00</td>\n",
       "      <td>97.64</td>\n",
       "    </tr>\n",
       "    <tr>\n",
       "      <th>3</th>\n",
       "      <td>Belchertown, MA</td>\n",
       "      <td>217.00</td>\n",
       "      <td>114.41</td>\n",
       "    </tr>\n",
       "    <tr>\n",
       "      <th>4</th>\n",
       "      <td>Blandford, MA</td>\n",
       "      <td>18.00</td>\n",
       "      <td>107.47</td>\n",
       "    </tr>\n",
       "    <tr>\n",
       "      <th>...</th>\n",
       "      <td>...</td>\n",
       "      <td>...</td>\n",
       "      <td>...</td>\n",
       "    </tr>\n",
       "    <tr>\n",
       "      <th>33699</th>\n",
       "      <td>Southern Pines, NC</td>\n",
       "      <td>637.00</td>\n",
       "      <td>172.20</td>\n",
       "    </tr>\n",
       "    <tr>\n",
       "      <th>33700</th>\n",
       "      <td>Spruce Pine, NC</td>\n",
       "      <td>280.00</td>\n",
       "      <td>402.43</td>\n",
       "    </tr>\n",
       "    <tr>\n",
       "      <th>33701</th>\n",
       "      <td>Louisville, KY</td>\n",
       "      <td>1133.00</td>\n",
       "      <td>400.65</td>\n",
       "    </tr>\n",
       "    <tr>\n",
       "      <th>33702</th>\n",
       "      <td>Louisville, KY</td>\n",
       "      <td>270.00</td>\n",
       "      <td>403.73</td>\n",
       "    </tr>\n",
       "    <tr>\n",
       "      <th>33703</th>\n",
       "      <td>Akron, OH</td>\n",
       "      <td>393.00</td>\n",
       "      <td>50.22</td>\n",
       "    </tr>\n",
       "  </tbody>\n",
       "</table>\n",
       "<p>33704 rows × 3 columns</p>\n",
       "</div>"
      ],
      "text/plain": [
       "                     city  number_of_business  dist_to_shore\n",
       "0              Agawam, MA              438.00          93.05\n",
       "1             Amherst, MA              571.00         133.37\n",
       "2               Barre, MA               97.00          97.64\n",
       "3         Belchertown, MA              217.00         114.41\n",
       "4           Blandford, MA               18.00         107.47\n",
       "...                   ...                 ...            ...\n",
       "33699  Southern Pines, NC              637.00         172.20\n",
       "33700     Spruce Pine, NC              280.00         402.43\n",
       "33701      Louisville, KY             1133.00         400.65\n",
       "33702      Louisville, KY              270.00         403.73\n",
       "33703           Akron, OH              393.00          50.22\n",
       "\n",
       "[33704 rows x 3 columns]"
      ]
     },
     "execution_count": 11,
     "metadata": {},
     "output_type": "execute_result"
    }
   ],
   "source": [
    "#cleaning up dist_to_shore column to have 2 decimal places\n",
    "pd.options.display.float_format = '{:.2f}'.format\n",
    "sho_df"
   ]
  },
  {
   "cell_type": "code",
   "execution_count": 13,
   "id": "0784e4da-4320-494c-9609-32db4714ee05",
   "metadata": {},
   "outputs": [
    {
     "data": {
      "text/html": [
       "<div>\n",
       "<style scoped>\n",
       "    .dataframe tbody tr th:only-of-type {\n",
       "        vertical-align: middle;\n",
       "    }\n",
       "\n",
       "    .dataframe tbody tr th {\n",
       "        vertical-align: top;\n",
       "    }\n",
       "\n",
       "    .dataframe thead th {\n",
       "        text-align: right;\n",
       "    }\n",
       "</style>\n",
       "<table border=\"1\" class=\"dataframe\">\n",
       "  <thead>\n",
       "    <tr style=\"text-align: right;\">\n",
       "      <th></th>\n",
       "      <th>city</th>\n",
       "      <th>number_of_business</th>\n",
       "      <th>dist_to_shore</th>\n",
       "    </tr>\n",
       "  </thead>\n",
       "  <tbody>\n",
       "    <tr>\n",
       "      <th>2188</th>\n",
       "      <td>New York, NY</td>\n",
       "      <td>7263.00</td>\n",
       "      <td>17.01</td>\n",
       "    </tr>\n",
       "    <tr>\n",
       "      <th>27902</th>\n",
       "      <td>New York, NY</td>\n",
       "      <td>7263.00</td>\n",
       "      <td>17.21</td>\n",
       "    </tr>\n",
       "    <tr>\n",
       "      <th>27916</th>\n",
       "      <td>New York, NY</td>\n",
       "      <td>7263.00</td>\n",
       "      <td>17.22</td>\n",
       "    </tr>\n",
       "    <tr>\n",
       "      <th>27899</th>\n",
       "      <td>New York, NY</td>\n",
       "      <td>6801.00</td>\n",
       "      <td>18.55</td>\n",
       "    </tr>\n",
       "    <tr>\n",
       "      <th>27896</th>\n",
       "      <td>New York, NY</td>\n",
       "      <td>6801.00</td>\n",
       "      <td>18.55</td>\n",
       "    </tr>\n",
       "  </tbody>\n",
       "</table>\n",
       "</div>"
      ],
      "text/plain": [
       "               city  number_of_business  dist_to_shore\n",
       "2188   New York, NY             7263.00          17.01\n",
       "27902  New York, NY             7263.00          17.21\n",
       "27916  New York, NY             7263.00          17.22\n",
       "27899  New York, NY             6801.00          18.55\n",
       "27896  New York, NY             6801.00          18.55"
      ]
     },
     "execution_count": 13,
     "metadata": {},
     "output_type": "execute_result"
    }
   ],
   "source": [
    "#sort by number of business\"\n",
    "sho_df_sorted = sho_df.sort_values(by='number_of_business', ascending=False)\n",
    "sho_df_sorted.head()"
   ]
  },
  {
   "cell_type": "code",
   "execution_count": 15,
   "id": "365897ef-aef8-4711-bdc9-20ba61333ceb",
   "metadata": {},
   "outputs": [
    {
     "name": "stdout",
     "output_type": "stream",
     "text": [
      "The number of unique values in city is: 27885\n"
     ]
    }
   ],
   "source": [
    "#counting unique values in city column\n",
    "count_unique = len(pd.unique(sho_df_sorted['city']))\n",
    "print(\"The number of unique values in city is:\", count_unique)"
   ]
  },
  {
   "cell_type": "code",
   "execution_count": 16,
   "id": "bdaa7ddc-d6fb-4e10-ac66-0aa8dd2dc62c",
   "metadata": {},
   "outputs": [
    {
     "name": "stdout",
     "output_type": "stream",
     "text": [
      "The number of unique values in city is: 1885\n"
     ]
    }
   ],
   "source": [
    "#counting unique values in number of business column\n",
    "count_unique2 = len(pd.unique(sho_df_sorted['number_of_business']))\n",
    "print(\"The number of unique values in city is:\", count_unique2)"
   ]
  },
  {
   "cell_type": "code",
   "execution_count": 18,
   "id": "431f8d98-77e8-4a6f-b877-95782c99bba0",
   "metadata": {},
   "outputs": [
    {
     "data": {
      "text/plain": [
       "(33704, 3)"
      ]
     },
     "execution_count": 18,
     "metadata": {},
     "output_type": "execute_result"
    }
   ],
   "source": [
    "#drop duplicates\n",
    "sho_df_sorted.drop_duplicates()\n",
    "sho_df_sorted.shape"
   ]
  },
  {
   "cell_type": "code",
   "execution_count": null,
   "id": "99fc5af9-67c9-40f0-8d1e-e2a11d960ddf",
   "metadata": {},
   "outputs": [],
   "source": [
    "#top 20 cities with the most businesses"
   ]
  },
  {
   "cell_type": "code",
   "execution_count": null,
   "id": "e8754083-5fb7-4216-8cab-188cd1688ebf",
   "metadata": {},
   "outputs": [],
   "source": [
    "top_cities_biz = sho_df_sorted.head(20)\n",
    "top_cities_biz"
   ]
  },
  {
   "cell_type": "code",
   "execution_count": 20,
   "id": "077caf8b-23a6-447f-9619-96da55e9d2af",
   "metadata": {},
   "outputs": [
    {
     "data": {
      "text/plain": [
       "(33675, 3)"
      ]
     },
     "execution_count": 20,
     "metadata": {},
     "output_type": "execute_result"
    }
   ],
   "source": [
    "uniq_df = sho_df_sorted.drop_duplicates()\n",
    "uniq_df.shape"
   ]
  },
  {
   "cell_type": "code",
   "execution_count": 29,
   "id": "da39ab82-94ee-41a4-b380-9ad41c2d2850",
   "metadata": {},
   "outputs": [
    {
     "data": {
      "text/html": [
       "<div>\n",
       "<style scoped>\n",
       "    .dataframe tbody tr th:only-of-type {\n",
       "        vertical-align: middle;\n",
       "    }\n",
       "\n",
       "    .dataframe tbody tr th {\n",
       "        vertical-align: top;\n",
       "    }\n",
       "\n",
       "    .dataframe thead th {\n",
       "        text-align: right;\n",
       "    }\n",
       "</style>\n",
       "<table border=\"1\" class=\"dataframe\">\n",
       "  <thead>\n",
       "    <tr style=\"text-align: right;\">\n",
       "      <th></th>\n",
       "      <th>city</th>\n",
       "      <th>number_of_business</th>\n",
       "      <th>dist_to_shore</th>\n",
       "    </tr>\n",
       "  </thead>\n",
       "  <tbody>\n",
       "    <tr>\n",
       "      <th>13505</th>\n",
       "      <td>Luna Pier, MI</td>\n",
       "      <td>12.00</td>\n",
       "      <td>0.01</td>\n",
       "    </tr>\n",
       "    <tr>\n",
       "      <th>29455</th>\n",
       "      <td>Captiva, FL</td>\n",
       "      <td>89.00</td>\n",
       "      <td>0.01</td>\n",
       "    </tr>\n",
       "    <tr>\n",
       "      <th>27180</th>\n",
       "      <td>Bellingham, WA</td>\n",
       "      <td>1993.00</td>\n",
       "      <td>0.02</td>\n",
       "    </tr>\n",
       "    <tr>\n",
       "      <th>33633</th>\n",
       "      <td>Petersburg, AK</td>\n",
       "      <td>147.00</td>\n",
       "      <td>0.02</td>\n",
       "    </tr>\n",
       "    <tr>\n",
       "      <th>27775</th>\n",
       "      <td>Matinicus, ME</td>\n",
       "      <td>69.00</td>\n",
       "      <td>0.02</td>\n",
       "    </tr>\n",
       "    <tr>\n",
       "      <th>8987</th>\n",
       "      <td>Key West, FL</td>\n",
       "      <td>1546.00</td>\n",
       "      <td>0.07</td>\n",
       "    </tr>\n",
       "    <tr>\n",
       "      <th>5241</th>\n",
       "      <td>Issue, MD</td>\n",
       "      <td>8.00</td>\n",
       "      <td>0.09</td>\n",
       "    </tr>\n",
       "    <tr>\n",
       "      <th>27770</th>\n",
       "      <td>Sunset, ME</td>\n",
       "      <td>7.00</td>\n",
       "      <td>0.10</td>\n",
       "    </tr>\n",
       "    <tr>\n",
       "      <th>29164</th>\n",
       "      <td>Ocracoke, NC</td>\n",
       "      <td>18.00</td>\n",
       "      <td>0.10</td>\n",
       "    </tr>\n",
       "    <tr>\n",
       "      <th>29533</th>\n",
       "      <td>Montrose, AL</td>\n",
       "      <td>802.00</td>\n",
       "      <td>0.14</td>\n",
       "    </tr>\n",
       "  </tbody>\n",
       "</table>\n",
       "</div>"
      ],
      "text/plain": [
       "                 city  number_of_business  dist_to_shore\n",
       "13505   Luna Pier, MI               12.00           0.01\n",
       "29455     Captiva, FL               89.00           0.01\n",
       "27180  Bellingham, WA             1993.00           0.02\n",
       "33633  Petersburg, AK              147.00           0.02\n",
       "27775   Matinicus, ME               69.00           0.02\n",
       "8987     Key West, FL             1546.00           0.07\n",
       "5241        Issue, MD                8.00           0.09\n",
       "27770      Sunset, ME                7.00           0.10\n",
       "29164    Ocracoke, NC               18.00           0.10\n",
       "29533    Montrose, AL              802.00           0.14"
      ]
     },
     "execution_count": 29,
     "metadata": {},
     "output_type": "execute_result"
    }
   ],
   "source": [
    "sho_df_sorted2 = uniq_df.sort_values(by='dist_to_shore', ascending=True)\n",
    "top_10_cities = sho_df_sorted2.head(10)\n",
    "top_10_cities"
   ]
  },
  {
   "cell_type": "code",
   "execution_count": 30,
   "id": "865377fa-0783-42a2-8d6d-860f80e30aab",
   "metadata": {
    "scrolled": true
   },
   "outputs": [
    {
     "data": {
      "image/png": "[encoded data removed]",
      "text/plain": [
       "<Figure size 500x500 with 1 Axes>"
      ]
     },
     "metadata": {},
     "output_type": "display_data"
    }
   ],
   "source": [
    "plot = top_10_cities.plot.pie(y='number_of_business', figsize=(5, 5))"
   ]
  },
  {
   "cell_type": "code",
   "execution_count": 28,
   "id": "c5df2b26-413c-4cc7-8850-5a11e2f79e37",
   "metadata": {},
   "outputs": [],
   "source": [
    "import matplotlib.pyplot as plt"
   ]
  },
  {
   "cell_type": "code",
   "execution_count": 42,
   "id": "f212d89f-cc41-486d-b682-ad7ede11bbdc",
   "metadata": {},
   "outputs": [
    {
     "data": {
      "image/png": "[encoded data removed]",
      "text/plain": [
       "<Figure size 640x480 with 1 Axes>"
      ]
     },
     "metadata": {},
     "output_type": "display_data"
    }
   ],
   "source": [
    "#Charting the cities closest to the shore\n",
    "top_10_cities.plot(x='city', y='number_of_business', kind='bar', title='Top 10 Cities Closest to the Shore Ranked by # of Business', legend=False)\n",
    "plt.xlabel('Cites')\n",
    "plt.ylabel('# of Businesses')\n",
    "plt.show()"
   ]
  },
  {
   "cell_type": "code",
   "execution_count": 44,
   "id": "0b623718-9698-4eba-aafe-faaf0abe95c0",
   "metadata": {},
   "outputs": [
    {
     "data": {
      "text/html": [
       "<div>\n",
       "<style scoped>\n",
       "    .dataframe tbody tr th:only-of-type {\n",
       "        vertical-align: middle;\n",
       "    }\n",
       "\n",
       "    .dataframe tbody tr th {\n",
       "        vertical-align: top;\n",
       "    }\n",
       "\n",
       "    .dataframe thead th {\n",
       "        text-align: right;\n",
       "    }\n",
       "</style>\n",
       "<table border=\"1\" class=\"dataframe\">\n",
       "  <thead>\n",
       "    <tr style=\"text-align: right;\">\n",
       "      <th></th>\n",
       "      <th>city</th>\n",
       "      <th>number_of_business</th>\n",
       "      <th>dist_to_shore</th>\n",
       "    </tr>\n",
       "  </thead>\n",
       "  <tbody>\n",
       "    <tr>\n",
       "      <th>27180</th>\n",
       "      <td>Bellingham, WA</td>\n",
       "      <td>1993.00</td>\n",
       "      <td>0.02</td>\n",
       "    </tr>\n",
       "    <tr>\n",
       "      <th>8987</th>\n",
       "      <td>Key West, FL</td>\n",
       "      <td>1546.00</td>\n",
       "      <td>0.07</td>\n",
       "    </tr>\n",
       "    <tr>\n",
       "      <th>29533</th>\n",
       "      <td>Montrose, AL</td>\n",
       "      <td>802.00</td>\n",
       "      <td>0.14</td>\n",
       "    </tr>\n",
       "    <tr>\n",
       "      <th>33633</th>\n",
       "      <td>Petersburg, AK</td>\n",
       "      <td>147.00</td>\n",
       "      <td>0.02</td>\n",
       "    </tr>\n",
       "    <tr>\n",
       "      <th>29455</th>\n",
       "      <td>Captiva, FL</td>\n",
       "      <td>89.00</td>\n",
       "      <td>0.01</td>\n",
       "    </tr>\n",
       "    <tr>\n",
       "      <th>27775</th>\n",
       "      <td>Matinicus, ME</td>\n",
       "      <td>69.00</td>\n",
       "      <td>0.02</td>\n",
       "    </tr>\n",
       "    <tr>\n",
       "      <th>29164</th>\n",
       "      <td>Ocracoke, NC</td>\n",
       "      <td>18.00</td>\n",
       "      <td>0.10</td>\n",
       "    </tr>\n",
       "    <tr>\n",
       "      <th>13505</th>\n",
       "      <td>Luna Pier, MI</td>\n",
       "      <td>12.00</td>\n",
       "      <td>0.01</td>\n",
       "    </tr>\n",
       "    <tr>\n",
       "      <th>5241</th>\n",
       "      <td>Issue, MD</td>\n",
       "      <td>8.00</td>\n",
       "      <td>0.09</td>\n",
       "    </tr>\n",
       "    <tr>\n",
       "      <th>27770</th>\n",
       "      <td>Sunset, ME</td>\n",
       "      <td>7.00</td>\n",
       "      <td>0.10</td>\n",
       "    </tr>\n",
       "  </tbody>\n",
       "</table>\n",
       "</div>"
      ],
      "text/plain": [
       "                 city  number_of_business  dist_to_shore\n",
       "27180  Bellingham, WA             1993.00           0.02\n",
       "8987     Key West, FL             1546.00           0.07\n",
       "29533    Montrose, AL              802.00           0.14\n",
       "33633  Petersburg, AK              147.00           0.02\n",
       "29455     Captiva, FL               89.00           0.01\n",
       "27775   Matinicus, ME               69.00           0.02\n",
       "29164    Ocracoke, NC               18.00           0.10\n",
       "13505   Luna Pier, MI               12.00           0.01\n",
       "5241        Issue, MD                8.00           0.09\n",
       "27770      Sunset, ME                7.00           0.10"
      ]
     },
     "execution_count": 44,
     "metadata": {},
     "output_type": "execute_result"
    }
   ],
   "source": [
    "ranked_by_biz = top_10_cities.sort_values(by='number_of_business', ascending=False)\n",
    "ranked_by_biz"
   ]
  },
  {
   "cell_type": "code",
   "execution_count": 46,
   "id": "4ab86b25-de68-4773-9cc8-d31af584823b",
   "metadata": {},
   "outputs": [
    {
     "data": {
      "image/png": "[encoded data removed]",
      "text/plain": [
       "<Figure size 640x480 with 1 Axes>"
      ]
     },
     "metadata": {},
     "output_type": "display_data"
    }
   ],
   "source": [
    "#Charting the cities closest to the shore ranked by number of businesses\n",
    "ranked_by_biz.plot(x='city', y='number_of_business', kind='bar', title='Top 10 Cities Closest to the Shore Ranked by # of Business', legend=False)\n",
    "plt.xlabel('Cities')\n",
    "plt.ylabel('# of Businesses')\n",
    "plt.show()"
   ]
  },
  {
   "cell_type": "markdown",
   "id": "82100149-9889-4821-beaa-bfc1e9bacea2",
   "metadata": {},
   "source": [
    "### Top 10 Cities By The Shore Ranked by # of Businesses"
   ]
  },
  {
   "cell_type": "code",
   "execution_count": 47,
   "id": "65de3a5f-ae7c-47b6-b0c4-89f5547555a6",
   "metadata": {},
   "outputs": [
    {
     "data": {
      "image/png": "[encoded data removed]",
      "text/plain": [
       "<Figure size 640x480 with 1 Axes>"
      ]
     },
     "metadata": {},
     "output_type": "display_data"
    }
   ],
   "source": [
    "\n",
    "ranked_by_biz.plot.barh(x='city', y='number_of_business', color='lightcoral')\n",
    "plt.xlabel('# of Businesses')\n",
    "plt.ylabel('City')\n",
    "plt.title('Top 10 Cities Closest to the Shore Ranked by # of Business')\n",
    "plt.show()"
   ]
  },
  {
   "cell_type": "code",
   "execution_count": null,
   "id": "9effb388-6641-4b53-ac4a-c87caef49fdd",
   "metadata": {},
   "outputs": [],
   "source": [
    "palette_color = sn.color_palette('bright')\n",
    "plt.pie(top_10_cities['number_of_business'], labels=top_10_cities['city'], colors=palette_color, autopct='%.0f%%')\n",
    "plt.title('Top 10 Cities Closest to The Shore')\n",
    "plt.show()"
   ]
  }
 ],
 "metadata": {
  "kernelspec": {
   "display_name": "Python 3 (ipykernel)",
   "language": "python",
   "name": "python3"
  },
  "language_info": {
   "codemirror_mode": {
    "name": "ipython",
    "version": 3
   },
   "file_extension": ".py",
   "mimetype": "text/x-python",
   "name": "python",
   "nbconvert_exporter": "python",
   "pygments_lexer": "ipython3",
   "version": "3.12.5"
  }
 },
 "nbformat": 4,
 "nbformat_minor": 5
}
